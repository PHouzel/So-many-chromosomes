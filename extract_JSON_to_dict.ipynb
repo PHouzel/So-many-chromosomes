{
 "cells": [
  {
   "cell_type": "code",
   "execution_count": 2,
   "metadata": {},
   "outputs": [
    {
     "data": {
      "text/plain": [
       "[0.1717052015834,\n",
       " 0.1883850246221,\n",
       " 0.1715015525812,\n",
       " 0.2699512987958,\n",
       " 0.3362632929462,\n",
       " 0.3929552961347,\n",
       " 0.4751034246004,\n",
       " 0.5823294730534,\n",
       " 0.4829196672569,\n",
       " 0.5235137016988,\n",
       " 0.6881299784908,\n",
       " 0.811046697686,\n",
       " 0.9918191286538,\n",
       " 0.8756131289602,\n",
       " 1.296235596682,\n",
       " 1.271244954838,\n",
       " 1.336189591403,\n",
       " 1.377510943709,\n",
       " 1.343598536055,\n",
       " 1.433853834323,\n",
       " 1.598411925686,\n",
       " 1.813416784169,\n",
       " 1.895128521916,\n",
       " 2.009792607735,\n",
       " 1.687474422655,\n",
       " 1.92581163825,\n",
       " 1.983783720881,\n",
       " 2.387028140413,\n",
       " 1.891782859736,\n",
       " 2.212500945513,\n",
       " 2.013855890208,\n",
       " 2.548996980176,\n",
       " 2.746158307037,\n",
       " 3.15686985665,\n",
       " 3.272901300056,\n",
       " 3.410519537697,\n",
       " 3.227245133274,\n",
       " 2.946771969363,\n",
       " 3.640507144201,\n",
       " 4.34070090168,\n",
       " 4.803459317718,\n",
       " 3.267131244994,\n",
       " 3.405738634931]"
      ]
     },
     "execution_count": 2,
     "metadata": {},
     "output_type": "execute_result"
    }
   ],
   "source": [
    "import json  \n",
    "data_file = open('data.json', 'r')\n",
    "data_dict = json.load(data_file)\n",
    "data_dict[\"r_squared\"]"
   ]
  },
  {
   "cell_type": "code",
   "execution_count": null,
   "metadata": {},
   "outputs": [],
   "source": []
  }
 ],
 "metadata": {
  "interpreter": {
   "hash": "4ac9a216a435e4bc1bc1c28d4d1698485abcfd98d649ccfed63fc041a8d6d974"
  },
  "kernelspec": {
   "display_name": "Python 3.9.5 64-bit ('base': conda)",
   "name": "python3"
  },
  "language_info": {
   "codemirror_mode": {
    "name": "ipython",
    "version": 3
   },
   "file_extension": ".py",
   "mimetype": "text/x-python",
   "name": "python",
   "nbconvert_exporter": "python",
   "pygments_lexer": "ipython3",
   "version": "3.9.5"
  },
  "orig_nbformat": 4
 },
 "nbformat": 4,
 "nbformat_minor": 2
}
