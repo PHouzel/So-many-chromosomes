{
 "cells": [
  {
   "cell_type": "code",
   "execution_count": 1,
   "metadata": {},
   "outputs": [],
   "source": [
    "import numpy as np\n",
    "import math\n",
    "import matplotlib.pyplot as plt\n",
    "import re\n",
    "#from scipy.optimize import curve_fit\n",
    "#import mdtraj as md\n",
    "import os"
   ]
  },
  {
   "cell_type": "code",
   "execution_count": 2,
   "metadata": {},
   "outputs": [],
   "source": [
    "def dir_to_trajs(directory):\n",
    "    \"\"\"\n",
    "    loads atom positions from all LAMMPS files in given directory\n",
    "    \n",
    "    input directory: path of directory e.g. run3-100_dumplin (string)\n",
    "    output: positions of all atoms at different times (numpy array) \n",
    "    \"\"\"\n",
    "    a = []\n",
    "    # iterate over files in\n",
    "    # that directory\n",
    "    for filename in os.listdir(directory):\n",
    "        f = os.path.join(directory, filename)\n",
    "        # checking if it is a file: \n",
    "        if os.path.isfile(f):\n",
    "            a.append(np.loadtxt(f, skiprows=9, usecols=(1,2,3)))\n",
    "    return np.asarray(a[-round(len(a)/2):])"
   ]
  },
  {
   "cell_type": "code",
   "execution_count": 3,
   "metadata": {},
   "outputs": [],
   "source": [
    "def calcDists(directory,gendist,samplesize=10,refatom=None):\n",
    "    trajs = dir_to_trajs(directory)\n",
    "    a = []\n",
    "    \n",
    "    if refatom == None:\n",
    "        try:\n",
    "            refatoms = np.random.choice(range(trajs.shape[1]-gendist), size=samplesize, replace=False)\n",
    "        except:\n",
    "            refatoms = range(trajs.shape[1]-gendist)\n",
    "            print(i for i in refatoms)\n",
    "        #print(range(trajs.shape[1]-gendist))\n",
    "        #print(trajs.shape[1], gendist)\n",
    "        #print(refatoms)\n",
    "        for atom1 in refatoms:\n",
    "            temp = trajs[:,atom1]-trajs[:,atom1+gendist]\n",
    "            a.append(np.linalg.norm(temp, axis=1))\n",
    "        \n",
    "    else:\n",
    "        temp = trajs[:,refatom]-trajs[:,refatom+gendist]\n",
    "        a.append(np.linalg.norm(temp, axis=1))\n",
    "    \n",
    "    distances = np.asarray(a)\n",
    "    return distances"
   ]
  },
  {
   "cell_type": "code",
   "execution_count": 4,
   "metadata": {},
   "outputs": [],
   "source": [
    "def plotpdf(directory,gendist,refatom=None):\n",
    "    alldistances = []\n",
    "    for filename in os.listdir(directory):\n",
    "        f = os.path.join(directory, filename)\n",
    "        # checking if it is a directory:\n",
    "        if os.path.isdir(f):\n",
    "            for file in os.listdir(f):\n",
    "                dumplin = os.path.join(f, file)\n",
    "                if os.path.isdir(dumplin):\n",
    "                    alldistances.append(calcDists(dumplin,gendist,refatom=refatom))\n",
    "    dists = np.asarray(alldistances).flatten()\n",
    "    \n",
    "    if refatom == None:\n",
    "        plt.title(r'Distribution of distances in '+directory.split('/')[-1]+' for gendist = '+str(gendist))\n",
    "    else:\n",
    "        plt.title(r'Distribution of distances in '+directory.split('/')[-1]+' for gendist = '+str(gendist)+'\\n'+'atom No '+str(refatom)+' is the reference')\n",
    "    plt.xlabel(r'distance $r$')\n",
    "    plt.ylabel(r'$P(r)$')\n",
    "    plt.hist(dists, bins=25, density=True)\n",
    "    #plt.grid()\n",
    "    plt.tight_layout()\n",
    "    plt.savefig('../plots/'+'Prvsr_'+directory.split('/')[-1]+'_gendist'+str(gendist)+'_ref'+str(refatom)+'.pdf', format='pdf')\n",
    "    plt.show()"
   ]
  },
  {
   "cell_type": "code",
   "execution_count": 10,
   "metadata": {},
   "outputs": [
    {
     "data": {
      "image/png": "[encoded data removed]",
      "text/plain": [
       "<Figure size 432x288 with 1 Axes>"
      ]
     },
     "metadata": {
      "needs_background": "light"
     },
     "output_type": "display_data"
    },
    {
     "name": "stdout",
     "output_type": "stream",
     "text": [
      "CPU times: user 33.9 s, sys: 350 ms, total: 34.3 s\n",
      "Wall time: 35.6 s\n"
     ]
    }
   ],
   "source": [
    "%%time\n",
    "directory = '../run6-2000/dumplin_cluster_anchoring_wall_A6'\n",
    "gendist = 997\n",
    "ref = 3\n",
    "plotpdf(directory,gendist,ref)"
   ]
  },
  {
   "cell_type": "code",
   "execution_count": null,
   "metadata": {},
   "outputs": [],
   "source": []
  }
 ],
 "metadata": {
  "kernelspec": {
   "display_name": "Python 3",
   "language": "python",
   "name": "python3"
  },
  "language_info": {
   "codemirror_mode": {
    "name": "ipython",
    "version": 3
   },
   "file_extension": ".py",
   "mimetype": "text/x-python",
   "name": "python",
   "nbconvert_exporter": "python",
   "pygments_lexer": "ipython3",
   "version": "3.9.5"
  }
 },
 "nbformat": 4,
 "nbformat_minor": 4
}
