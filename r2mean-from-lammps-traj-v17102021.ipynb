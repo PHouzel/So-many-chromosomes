{
 "cells": [
  {
   "cell_type": "code",
   "execution_count": 1,
   "metadata": {},
   "outputs": [],
   "source": [
    "import numpy as np\n",
    "import math\n",
    "import matplotlib.pyplot as plt\n",
    "import re\n",
    "#from scipy.optimize import curve_fit\n",
    "#import mdtraj as md\n",
    "import os"
   ]
  },
  {
   "cell_type": "code",
   "execution_count": 40,
   "metadata": {},
   "outputs": [],
   "source": [
    "def dir_to_trajs(directory):\n",
    "    \"\"\"\n",
    "    loads atom positions from all LAMMPS files in given directory\n",
    "    \n",
    "    input directory: path of directory e.g. run3-100_dumplin (string)\n",
    "    output: positions of all atoms at different times (numpy array) \n",
    "    \"\"\"\n",
    "    a = []\n",
    "    #d = {}\n",
    "    # iterate over files in\n",
    "    # that directory\n",
    "    for filename in os.listdir(directory):\n",
    "        f = os.path.join(directory, filename)\n",
    "        # checking if it is a file: \n",
    "        if os.path.isfile(f):\n",
    "            #d['traj{0}'.format(re.findall(r'hello.([^]]*).lammpstrj', f)[0])] = np.loadtxt(f, skiprows=9, usecols=(1,2,3))\n",
    "            a.append(np.loadtxt(f, skiprows=9, usecols=(1,2,3)))\n",
    "    return np.asarray(a) #[-10:] #d\n",
    "\n",
    "def trajs_to_SDs(a,atom1,atom2):\n",
    "    \"\"\"\n",
    "    computes SD of two atoms for all times in given dictionary\n",
    "    \n",
    "    input a: atom positions at different times (dictionary)\n",
    "    input atom1/atom2: two atoms of interest (integer)\n",
    "    output: SDs of two atoms of interest for all times (1d array of length=#timestamps)\n",
    "    \"\"\"\n",
    "    #SD = []\n",
    "    #for key in a:\n",
    "        #r1 = a[key][atom1-1]\n",
    "        #r2 = a[key][atom2-1]\n",
    "        #dist = np.linalg.norm(r1-r2)**2\n",
    "        #SD.append(dist)\n",
    "    #return np.asarray(SD)\n",
    "    temp = a[:,atom1-1]-a[:,atom2-1]\n",
    "    #SD = np.einsum(\"ij,ij->i\", temp, temp) # did return wrong results (faster acc. to guy online)\n",
    "    SD = np.linalg.norm(temp, axis=1)**2\n",
    "    return SD\n",
    "\n",
    "def dir_to_allSDs(directory,gendist):\n",
    "    \"\"\"\n",
    "    computes SDs of every pair of atoms separated by a given genomic distance \n",
    "    for all LAMMPS files in directory\n",
    "    \n",
    "    input gendist: genomic distance of interest (integer)\n",
    "    output: SDs for every two atoms separated by given genomic distance for all times \n",
    "            (array of shape [#atoms-gendist] x #timestamps)\n",
    "    \"\"\"\n",
    "    trajs = dir_to_trajs(directory)\n",
    "    a = []\n",
    "    atom1 = 1\n",
    "    while True:\n",
    "        try: \n",
    "            a.append(trajs_to_SDs(trajs,atom1,atom1+gendist))\n",
    "            atom1 += 1\n",
    "        except: \n",
    "            break\n",
    "    return np.asarray(a)"
   ]
  },
  {
   "cell_type": "code",
   "execution_count": 41,
   "metadata": {},
   "outputs": [],
   "source": [
    "def allSDs_to_MSD(directory,gendist):\n",
    "    allSDs = dir_to_allSDs(directory,gendist)\n",
    "    nostart = np.delete(allSDs, obj=0, axis=1) # delete starting pos after SAW (ie first column)\n",
    "    return np.mean(nostart), np.std(nostart, ddof=1) / np.sqrt(np.size(nostart))"
   ]
  },
  {
   "cell_type": "code",
   "execution_count": 4,
   "metadata": {},
   "outputs": [],
   "source": [
    "def allMSDs(directory):\n",
    "    gendist = 1\n",
    "    MSDs = []\n",
    "    errs = []\n",
    "    while True:\n",
    "        try:\n",
    "            MSD, err = allSDs_to_MSD(directory,gendist)\n",
    "            MSDs.append(MSD)\n",
    "            errs.append(err)\n",
    "            gendist += 1\n",
    "        except:\n",
    "            break\n",
    "    return np.asarray(MSDs), np.asarray(errs)"
   ]
  },
  {
   "cell_type": "code",
   "execution_count": 30,
   "metadata": {},
   "outputs": [
    {
     "name": "stdout",
     "output_type": "stream",
     "text": [
      "Wall time: 2min 44s\n"
     ]
    }
   ],
   "source": [
    "# runtime when using all timestamps\n",
    "%%time\n",
    "directory = 'run3-100_dumplin'\n",
    "MSDs, errs = allMSDs(directory)"
   ]
  },
  {
   "cell_type": "code",
   "execution_count": 33,
   "metadata": {},
   "outputs": [
    {
     "name": "stdout",
     "output_type": "stream",
     "text": [
      "Wall time: 2min 49s\n"
     ]
    }
   ],
   "source": [
    "# runtime only using the last 10 timestamps\n",
    "%%time\n",
    "directory = 'run3-100_dumplin'\n",
    "MSDs, errs = allMSDs(directory)"
   ]
  },
  {
   "cell_type": "code",
   "execution_count": 44,
   "metadata": {},
   "outputs": [
    {
     "name": "stdout",
     "output_type": "stream",
     "text": [
      "Wall time: 3.22 s\n"
     ]
    }
   ],
   "source": [
    "# runtime not using dir_to_SDs (ie not loading the trajectories for every pair of atoms)\n",
    "%%time\n",
    "directory = 'run3-100_dumplin'\n",
    "MSDs, errs = allMSDs(directory)"
   ]
  },
  {
   "cell_type": "code",
   "execution_count": 45,
   "metadata": {},
   "outputs": [
    {
     "name": "stdout",
     "output_type": "stream",
     "text": [
      "Wall time: 3min 59s\n"
     ]
    }
   ],
   "source": [
    "%%time\n",
    "directory = 'run2-1000_dumplin'\n",
    "MSDs, errs = allMSDs(directory)"
   ]
  },
  {
   "cell_type": "code",
   "execution_count": 41,
   "metadata": {
    "scrolled": true
   },
   "outputs": [
    {
     "data": {
      "text/plain": [
       "<ErrorbarContainer object of 3 artists>"
      ]
     },
     "execution_count": 41,
     "metadata": {},
     "output_type": "execute_result"
    },
    {
     "data": {
      "image/png": "[encoded data removed]",
      "text/plain": [
       "<Figure size 432x288 with 1 Axes>"
      ]
     },
     "metadata": {
      "needs_background": "light"
     },
     "output_type": "display_data"
    }
   ],
   "source": [
    "#print(MSDs)\n",
    "#print(errs)\n",
    "gendists = np.arange(1, len(MSDs)+1)\n",
    "plt.errorbar(gendists, MSDs, yerr=errs)"
   ]
  },
  {
   "cell_type": "code",
   "execution_count": 46,
   "metadata": {},
   "outputs": [
    {
     "data": {
      "text/plain": [
       "<ErrorbarContainer object of 3 artists>"
      ]
     },
     "execution_count": 46,
     "metadata": {},
     "output_type": "execute_result"
    },
    {
     "data": {
      "image/png": "[encoded data removed]",
      "text/plain": [
       "<Figure size 432x288 with 1 Axes>"
      ]
     },
     "metadata": {
      "needs_background": "light"
     },
     "output_type": "display_data"
    }
   ],
   "source": [
    "gendists = np.arange(1, len(MSDs)+1)\n",
    "plt.errorbar(gendists, MSDs, yerr=errs)"
   ]
  },
  {
   "cell_type": "code",
   "execution_count": null,
   "metadata": {},
   "outputs": [],
   "source": []
  }
 ],
 "metadata": {
  "kernelspec": {
   "display_name": "Python 3",
   "language": "python",
   "name": "python3"
  },
  "language_info": {
   "codemirror_mode": {
    "name": "ipython",
    "version": 3
   },
   "file_extension": ".py",
   "mimetype": "text/x-python",
   "name": "python",
   "nbconvert_exporter": "python",
   "pygments_lexer": "ipython3",
   "version": "3.8.3"
  }
 },
 "nbformat": 4,
 "nbformat_minor": 4
}
