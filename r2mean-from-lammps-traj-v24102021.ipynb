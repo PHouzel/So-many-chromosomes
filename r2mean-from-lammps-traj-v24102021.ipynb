{
 "cells": [
  {
   "cell_type": "code",
   "execution_count": 1,
   "metadata": {},
   "outputs": [],
   "source": [
    "import numpy as np\n",
    "import math\n",
    "import matplotlib.pyplot as plt\n",
    "import re\n",
    "#from scipy.optimize import curve_fit\n",
    "#import mdtraj as md\n",
    "import os"
   ]
  },
  {
   "cell_type": "code",
   "execution_count": 2,
   "metadata": {},
   "outputs": [],
   "source": [
    "def dir_to_trajs(directory):\n",
    "    \"\"\"\n",
    "    loads atom positions from all LAMMPS files in given directory\n",
    "    \n",
    "    input directory: path of directory e.g. run3-100_dumplin (string)\n",
    "    output: positions of all atoms at different times (numpy array) \n",
    "    \"\"\"\n",
    "    a = []\n",
    "    # iterate over files in\n",
    "    # that directory\n",
    "    for filename in os.listdir(directory):\n",
    "        f = os.path.join(directory, filename)\n",
    "        # checking if it is a file: \n",
    "        if os.path.isfile(f):\n",
    "            a.append(np.loadtxt(f, skiprows=9, usecols=(1,2,3)))\n",
    "    return np.asarray(a[-round(len(a)/2):])"
   ]
  },
  {
   "cell_type": "code",
   "execution_count": 3,
   "metadata": {},
   "outputs": [],
   "source": [
    "def calcMSDs(directory,delta=1,samplesize=100):\n",
    "    trajs = dir_to_trajs(directory)\n",
    "    MSDs = []\n",
    "    errs = []\n",
    "    for gendist in range(1,trajs.shape[1],delta):\n",
    "        a = []\n",
    "        try:\n",
    "            refatoms = np.random.choice(range(trajs.shape[1]-gendist), size=samplesize, replace=False)\n",
    "        except:\n",
    "            refatoms = range(trajs.shape[1]-gendist)\n",
    "        for atom1 in refatoms:\n",
    "            temp = trajs[:,atom1]-trajs[:,atom1+gendist]\n",
    "            a.append(np.linalg.norm(temp, axis=1)**2)\n",
    "        allSDs = np.asarray(a)\n",
    "        MSD, err = np.mean(allSDs), np.std(allSDs, ddof=1) / np.sqrt(np.size(allSDs))\n",
    "        MSDs.append(MSD)\n",
    "        errs.append(err)\n",
    "    return np.asarray(MSDs), np.asarray(errs)"
   ]
  },
  {
   "cell_type": "code",
   "execution_count": 12,
   "metadata": {},
   "outputs": [],
   "source": [
    "def plotMSDs(directory,delta=1,samplesize=100):\n",
    "    MSDs, errs = calcMSDs(directory,delta,samplesize)\n",
    "    \n",
    "    gendists = delta*np.arange(1, len(MSDs)+1)\n",
    "    \n",
    "    plt.title(r'MSD $\\left\\langle r^2 \\right\\rangle$ as a function of genomic distance')\n",
    "    plt.xlabel(r'Genomic distance [bp]')\n",
    "    plt.ylabel(r'$\\left\\langle r^2 \\right\\rangle$')\n",
    "    plt.errorbar(gendists, MSDs, yerr=errs, fmt=',', linestyle='None') # pixel marker and no line\n",
    "    plt.grid()\n",
    "    plt.tight_layout()\n",
    "    #plt.savefig('../plots/'+'MSDvsgendist_'+directory.split('/')[-1]+'_delta'+str(delta)+'_ssize'+str(samplesize)+'.pdf', format='pdf')\n",
    "    plt.show()"
   ]
  },
  {
   "cell_type": "code",
   "execution_count": 47,
   "metadata": {},
   "outputs": [],
   "source": [
    "def plotMSDs_avgruns(directory,delta=1,samplesize=100):\n",
    "    allMSDs = []\n",
    "    for filename in os.listdir(directory):\n",
    "        # checking if it is a directory:\n",
    "        f = os.path.join(directory, filename)\n",
    "        if os.path.isdir(f):\n",
    "            for file in os.listdir(f):\n",
    "                dumplin = os.path.join(f, file)\n",
    "                if os.path.isdir(dumplin):\n",
    "                    allMSDs.append(calcMSDs(dumplin,delta,samplesize)[0])\n",
    "            \n",
    "    avgMSDs = np.mean(np.asarray(allMSDs), axis=0)\n",
    "    errs = np.std(np.asarray(allMSDs), axis=0) / np.sqrt(len(allMSDs))\n",
    "    gendists = delta*np.arange(1, len(avgMSDs)+1)\n",
    "    \n",
    "    plt.title(r'MSD $\\left\\langle r^2 \\right\\rangle$ as a fct of gendist averaged over '+str(len(allMSDs))+' runs')\n",
    "    plt.xlabel(r'Genomic distance [bp]')\n",
    "    plt.ylabel(r'$\\left\\langle r^2 \\right\\rangle$')\n",
    "    plt.errorbar(gendists, avgMSDs, yerr=errs, fmt='.', linestyle='None') # , pixel marker or . point marker and no line\n",
    "    plt.grid()\n",
    "    plt.tight_layout()\n",
    "    plt.savefig('../plots/'+'avgMSDvsgendist_'+directory.split('/')[-1]+'_delta'+str(delta)+'_ssize'+str(samplesize)+'.pdf', format='pdf')\n",
    "    plt.show()"
   ]
  },
  {
   "cell_type": "code",
   "execution_count": 50,
   "metadata": {},
   "outputs": [
    {
     "data": {
      "image/png": "[encoded data removed]",
      "text/plain": [
       "<Figure size 432x288 with 1 Axes>"
      ]
     },
     "metadata": {
      "needs_background": "light"
     },
     "output_type": "display_data"
    },
    {
     "name": "stdout",
     "output_type": "stream",
     "text": [
      "Wall time: 1min 8s\n"
     ]
    }
   ],
   "source": [
    "%%time\n",
    "directory = '../simdata/runs3000'\n",
    "delta = 30 # difference in gendist between adjacent data points in the plot\n",
    "samplesize = 1000 # No of randomly chosen pairs of atoms from which MSD is calculated for each gendist\n",
    "plotMSDs_avgruns(directory,delta,samplesize)"
   ]
  },
  {
   "cell_type": "code",
   "execution_count": null,
   "metadata": {},
   "outputs": [],
   "source": []
  }
 ],
 "metadata": {
  "kernelspec": {
   "display_name": "Python 3",
   "language": "python",
   "name": "python3"
  },
  "language_info": {
   "codemirror_mode": {
    "name": "ipython",
    "version": 3
   },
   "file_extension": ".py",
   "mimetype": "text/x-python",
   "name": "python",
   "nbconvert_exporter": "python",
   "pygments_lexer": "ipython3",
   "version": "3.8.3"
  }
 },
 "nbformat": 4,
 "nbformat_minor": 4
}
